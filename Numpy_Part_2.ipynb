{
  "nbformat": 4,
  "nbformat_minor": 0,
  "metadata": {
    "colab": {
      "provenance": []
    },
    "kernelspec": {
      "name": "python3",
      "display_name": "Python 3"
    },
    "language_info": {
      "name": "python"
    }
  },
  "cells": [
    {
      "cell_type": "code",
      "execution_count": null,
      "metadata": {
        "id": "5hR4vgJWyoR7"
      },
      "outputs": [],
      "source": [
        "import numpy as np"
      ]
    },
    {
      "cell_type": "markdown",
      "source": [
        "### Slicing and Indexing"
      ],
      "metadata": {
        "id": "sW-FIZK0ytMv"
      }
    },
    {
      "cell_type": "markdown",
      "source": [
        "## Field Access dan Basic Indexing"
      ],
      "metadata": {
        "id": "lV1G-ffIyyJl"
      }
    },
    {
      "cell_type": "code",
      "source": [
        "#contoh 1 index tunggal field index\n",
        "a=np.arange(10)\n",
        "print(a)\n",
        "b=a[3]\n",
        "print(b)"
      ],
      "metadata": {
        "colab": {
          "base_uri": "https://localhost:8080/"
        },
        "id": "RufMYoa-yvy8",
        "outputId": "b87c39c2-bdb9-4c4d-df9b-3935928e0419"
      },
      "execution_count": null,
      "outputs": [
        {
          "output_type": "stream",
          "name": "stdout",
          "text": [
            "[0 1 2 3 4 5 6 7 8 9]\n",
            "3\n"
          ]
        }
      ]
    },
    {
      "cell_type": "code",
      "source": [
        "#contoh 2\n",
        "a=np.arange(20)\n",
        "print(a)\n",
        "s=slice(3,10,2)\n",
        "print(a[s])"
      ],
      "metadata": {
        "colab": {
          "base_uri": "https://localhost:8080/"
        },
        "id": "p_ibfXXIzDzr",
        "outputId": "997a9ae5-8a67-42ea-a059-2772c5ef786d"
      },
      "execution_count": null,
      "outputs": [
        {
          "output_type": "stream",
          "name": "stdout",
          "text": [
            "[ 0  1  2  3  4  5  6  7  8  9 10 11 12 13 14 15 16 17 18 19]\n",
            "[3 5 7 9]\n"
          ]
        }
      ]
    },
    {
      "cell_type": "code",
      "source": [
        "#conth 3\n",
        "a=np.arange(20)\n",
        "print(a)\n",
        "b=a[3:10:4]#start,ststop,step\n",
        "print(b)"
      ],
      "metadata": {
        "colab": {
          "base_uri": "https://localhost:8080/"
        },
        "id": "5on0YLmGzneo",
        "outputId": "2b13ee01-8764-4382-c6bc-b615c9e94c5a"
      },
      "execution_count": null,
      "outputs": [
        {
          "output_type": "stream",
          "name": "stdout",
          "text": [
            "[ 0  1  2  3  4  5  6  7  8  9 10 11 12 13 14 15 16 17 18 19]\n",
            "[3 7]\n"
          ]
        }
      ]
    },
    {
      "cell_type": "code",
      "source": [
        "#hanya menggunakan parameter start\n",
        "a=np.arange(10)\n",
        "print(a)\n",
        "print(a[3:])#start dari index 3"
      ],
      "metadata": {
        "colab": {
          "base_uri": "https://localhost:8080/"
        },
        "id": "N-GmYS9uz79G",
        "outputId": "aa7540de-9869-455a-e12f-9d51b6e021b0"
      },
      "execution_count": null,
      "outputs": [
        {
          "output_type": "stream",
          "name": "stdout",
          "text": [
            "[0 1 2 3 4 5 6 7 8 9]\n",
            "[3 4 5 6 7 8 9]\n"
          ]
        }
      ]
    },
    {
      "cell_type": "code",
      "source": [
        "#slicing menggunakan start dan stop\n",
        "a=np.arange(10)\n",
        "print(a)\n",
        "print(a[4:9])"
      ],
      "metadata": {
        "colab": {
          "base_uri": "https://localhost:8080/"
        },
        "id": "lfL057xd0HUu",
        "outputId": "03de4021-f506-49f9-fd4a-554e7a396b9a"
      },
      "execution_count": null,
      "outputs": [
        {
          "output_type": "stream",
          "name": "stdout",
          "text": [
            "[0 1 2 3 4 5 6 7 8 9]\n",
            "[4 5 6 7 8]\n"
          ]
        }
      ]
    },
    {
      "cell_type": "code",
      "source": [
        "#slicing pada array 2 dimensi\n",
        "a=np.array([[1,2,3,4],[6,7,8,9],[1,2,3,4]])\n",
        "print(a)\n",
        "#slicing\n",
        "print('Slicing')\n",
        "print(a[1:])"
      ],
      "metadata": {
        "colab": {
          "base_uri": "https://localhost:8080/"
        },
        "id": "SQFgctOq0VZG",
        "outputId": "5f34880a-c8e0-4254-c58c-dccdf2df9594"
      },
      "execution_count": null,
      "outputs": [
        {
          "output_type": "stream",
          "name": "stdout",
          "text": [
            "[[1 2 3 4]\n",
            " [6 7 8 9]\n",
            " [1 2 3 4]]\n",
            "Slicing\n",
            "[[6 7 8 9]\n",
            " [1 2 3 4]]\n"
          ]
        }
      ]
    },
    {
      "cell_type": "code",
      "source": [
        "#contoh 7 menggunakan elipsis(...)\n",
        "a=np.array([[1,2,3,4],\n",
        "            [6,7,8,9],\n",
        "            [1,2,3,4]])\n",
        "print('Array')\n",
        "print(a)\n",
        "print('\\n')\n",
        "\n",
        "#mengembalikan item di kolom kedua dari array utama\n",
        "print('Item dari kolom kedua')\n",
        "print(a[...,1])\n",
        "print('\\n')\n",
        "\n",
        "#kita akan slice item dari kolom 1 dan seterusnya\n",
        "print('Item dari kolom 1 dan seterusnya')\n",
        "print(a[...,2:])"
      ],
      "metadata": {
        "colab": {
          "base_uri": "https://localhost:8080/"
        },
        "id": "nZ06W3qV02vT",
        "outputId": "64a3ebcb-d92f-4191-a6f7-e51b3c2fd819"
      },
      "execution_count": null,
      "outputs": [
        {
          "output_type": "stream",
          "name": "stdout",
          "text": [
            "Array\n",
            "[[1 2 3 4]\n",
            " [6 7 8 9]\n",
            " [1 2 3 4]]\n",
            "\n",
            "\n",
            "Item dari kolom kedua\n",
            "[2 7 2]\n",
            "\n",
            "\n",
            "Item dari kolom 1 dan seterusnya\n",
            "[[3 4]\n",
            " [8 9]\n",
            " [3 4]]\n"
          ]
        }
      ]
    },
    {
      "cell_type": "markdown",
      "source": [
        "## Advance Indexing"
      ],
      "metadata": {
        "id": "ntTd7cLO1j1-"
      }
    },
    {
      "cell_type": "markdown",
      "source": [
        "###Integer Indexing"
      ],
      "metadata": {
        "id": "xIG7MExR1lqq"
      }
    },
    {
      "cell_type": "code",
      "source": [
        "#mengakses element dari array dua dimensi\n",
        "x=np.array([[1,2,3,4],\n",
        "            [4,5,6,7],\n",
        "            [5,6,7,8],\n",
        "            [6,7,8,9]])\n",
        "print('Array Asli')\n",
        "print(x)\n",
        "print('\\n')\n",
        "baris=np.array([[0,0],[2,2]])#baris pertama dan ke 3\n",
        "kolom=np.array([[0,2],[0,3]])#kolom pertama dan ketiga\n",
        "nilai=x[baris,kolom]\n",
        "print('Nilai yang didapat')\n",
        "print(nilai)"
      ],
      "metadata": {
        "colab": {
          "base_uri": "https://localhost:8080/"
        },
        "id": "H8NjDl6f1oUg",
        "outputId": "91a76aa9-5332-4ca0-fd87-4a56958a1117"
      },
      "execution_count": null,
      "outputs": [
        {
          "output_type": "stream",
          "name": "stdout",
          "text": [
            "Array Asli\n",
            "[[1 2 3 4]\n",
            " [4 5 6 7]\n",
            " [5 6 7 8]\n",
            " [6 7 8 9]]\n",
            "\n",
            "\n",
            "Nilai yang didapat\n",
            "[[1 3]\n",
            " [5 8]]\n"
          ]
        }
      ]
    },
    {
      "cell_type": "code",
      "source": [
        "#contoh 3\n",
        "x=np.array([[1,2,3],\n",
        "            [4,5,6],\n",
        "            [7,8,9],\n",
        "            [1,2,3]])\n",
        "print('Array Asli')\n",
        "print(x)\n",
        "print('\\n')\n",
        "#slicing\n",
        "z=x[1:3,0:3]#baris #kolom\n",
        "print('Slicing')\n",
        "print(z)\n",
        "print('\\n')\n",
        "y=x[1:3,[1,2]]\n",
        "print('Slicing New')\n",
        "print(y)"
      ],
      "metadata": {
        "colab": {
          "base_uri": "https://localhost:8080/"
        },
        "id": "nAkH7hVP20Yw",
        "outputId": "a7200760-c652-4aae-f2b7-27791e651c90"
      },
      "execution_count": null,
      "outputs": [
        {
          "output_type": "stream",
          "name": "stdout",
          "text": [
            "Array Asli\n",
            "[[1 2 3]\n",
            " [4 5 6]\n",
            " [7 8 9]\n",
            " [1 2 3]]\n",
            "\n",
            "\n",
            "Slicing\n",
            "[[4 5 6]\n",
            " [7 8 9]]\n",
            "\n",
            "\n",
            "Slicing New\n",
            "[[5 6]\n",
            " [8 9]]\n"
          ]
        }
      ]
    },
    {
      "cell_type": "markdown",
      "source": [
        "## Boolean Indexing"
      ],
      "metadata": {
        "id": "RUoOgrpj4CRk"
      }
    },
    {
      "cell_type": "code",
      "source": [
        "x=np.array([[0,1,2],\n",
        "            [3,4,5],\n",
        "            [6,7,8],\n",
        "            [4,5,3]])\n",
        "print('Nilai Awal')\n",
        "print(x)\n",
        "print('\\n')\n",
        "print('Item yang lebih besar dari 4')\n",
        "print(x[x>4])"
      ],
      "metadata": {
        "colab": {
          "base_uri": "https://localhost:8080/"
        },
        "id": "SOFIKQ4n4E8Z",
        "outputId": "754db534-23e8-4352-fc6b-9e7400be6769"
      },
      "execution_count": null,
      "outputs": [
        {
          "output_type": "stream",
          "name": "stdout",
          "text": [
            "Nilai Awal\n",
            "[[0 1 2]\n",
            " [3 4 5]\n",
            " [6 7 8]\n",
            " [4 5 3]]\n",
            "\n",
            "\n",
            "Item yang lebih besar dari 4\n",
            "[5 6 7 8 5]\n"
          ]
        }
      ]
    },
    {
      "cell_type": "code",
      "source": [
        "a=np.array([np.nan,1,2,np.nan,3,4,5,np.nan])\n",
        "print(a[np.isnan(a)])"
      ],
      "metadata": {
        "colab": {
          "base_uri": "https://localhost:8080/"
        },
        "id": "gdqVSgBQ5TTs",
        "outputId": "2b0af0d0-49c1-4d5e-e5f3-485c88ffab3a"
      },
      "execution_count": null,
      "outputs": [
        {
          "output_type": "stream",
          "name": "stdout",
          "text": [
            "[nan nan nan]\n"
          ]
        }
      ]
    },
    {
      "cell_type": "markdown",
      "source": [
        "## Array Manipulation"
      ],
      "metadata": {
        "id": "mYQ3jx_q5i0V"
      }
    },
    {
      "cell_type": "markdown",
      "source": [
        "###Mengubah Shape"
      ],
      "metadata": {
        "id": "a_eVYMSH5lAU"
      }
    },
    {
      "cell_type": "markdown",
      "source": [
        "#### Reshape"
      ],
      "metadata": {
        "id": "7sww1ewP5nJz"
      }
    },
    {
      "cell_type": "code",
      "source": [
        "a=np.arange(20)\n",
        "print('Array Asli')\n",
        "print(a)\n",
        "print('\\n')\n",
        "b=a.reshape(5,4)#2 baris 5 kolom\n",
        "print('Nilai Baru')\n",
        "print(b)"
      ],
      "metadata": {
        "colab": {
          "base_uri": "https://localhost:8080/"
        },
        "id": "ldxndbjl5ouu",
        "outputId": "1a4c46ac-0ff2-41f1-ba24-e1dc649bd519"
      },
      "execution_count": null,
      "outputs": [
        {
          "output_type": "stream",
          "name": "stdout",
          "text": [
            "Array Asli\n",
            "[ 0  1  2  3  4  5  6  7  8  9 10 11 12 13 14 15 16 17 18 19]\n",
            "\n",
            "\n",
            "Nilai Baru\n",
            "[[ 0  1  2  3]\n",
            " [ 4  5  6  7]\n",
            " [ 8  9 10 11]\n",
            " [12 13 14 15]\n",
            " [16 17 18 19]]\n"
          ]
        }
      ]
    },
    {
      "cell_type": "markdown",
      "source": [
        "#### Flatten"
      ],
      "metadata": {
        "id": "oruv6kgzAPjG"
      }
    },
    {
      "cell_type": "code",
      "source": [
        "a=np.arange(8).reshape(2,4)\n",
        "print('Array Asli')\n",
        "print(a)\n",
        "print('\\n')\n",
        "\n",
        "print('Array yang telah di Flaten')\n",
        "print(a.flatten())\n",
        "print('\\n')\n",
        "print('flatend array dalam F-style ordering')\n",
        "print(a.flatten(order='F'))"
      ],
      "metadata": {
        "colab": {
          "base_uri": "https://localhost:8080/"
        },
        "id": "aQgLqPl9ASFR",
        "outputId": "162cd0e3-7e16-4a46-feab-32ee4c037e7a"
      },
      "execution_count": null,
      "outputs": [
        {
          "output_type": "stream",
          "name": "stdout",
          "text": [
            "Array Asli\n",
            "[[0 1 2 3]\n",
            " [4 5 6 7]]\n",
            "\n",
            "\n",
            "Array yang telah di Flaten\n",
            "[0 1 2 3 4 5 6 7]\n",
            "\n",
            "\n",
            "flatend array dalam F-style ordering\n",
            "[0 4 1 5 2 6 3 7]\n"
          ]
        }
      ]
    },
    {
      "cell_type": "markdown",
      "source": [
        "#### Ravel"
      ],
      "metadata": {
        "id": "wvXrF-4YAxgB"
      }
    },
    {
      "cell_type": "code",
      "source": [
        "a=np.arange(8).reshape(2,4)\n",
        "print('Array Asli')\n",
        "print(a)\n",
        "print('\\n')\n",
        "print('Hasil dari fungsi ravel')\n",
        "print(a.ravel())\n",
        "print('\\n')\n",
        "print('Hasil dari fungsi ravel dalam F-style ordering')\n",
        "print(a.ravel(order='F'))"
      ],
      "metadata": {
        "colab": {
          "base_uri": "https://localhost:8080/"
        },
        "id": "Pdltb1ZWAyiq",
        "outputId": "1ad0b7ff-797b-4860-9589-27464cfcc63e"
      },
      "execution_count": null,
      "outputs": [
        {
          "output_type": "stream",
          "name": "stdout",
          "text": [
            "Array Asli\n",
            "[[0 1 2 3]\n",
            " [4 5 6 7]]\n",
            "\n",
            "\n",
            "Hasil dari fungsi ravel\n",
            "[0 1 2 3 4 5 6 7]\n",
            "\n",
            "\n",
            "Hasil dari fungsi ravel dalam F-style ordering\n",
            "[0 4 1 5 2 6 3 7]\n"
          ]
        }
      ]
    },
    {
      "cell_type": "markdown",
      "source": [
        "#### Operasi Transpos"
      ],
      "metadata": {
        "id": "9u4gJytCBJ4U"
      }
    },
    {
      "cell_type": "code",
      "source": [
        "a=np.arange(12).reshape(3,4)\n",
        "print('Array Asli')\n",
        "print(a)\n",
        "print('\\n')\n",
        "print('Array Transpos')\n",
        "print(np.transpose(a))\n",
        "print('\\n')\n",
        "print('Array transpose dengan .T.')\n",
        "print(a.T)"
      ],
      "metadata": {
        "colab": {
          "base_uri": "https://localhost:8080/"
        },
        "id": "j11mMPhuBMs7",
        "outputId": "83062121-02be-4eea-95d5-dc6a25f8d20d"
      },
      "execution_count": null,
      "outputs": [
        {
          "output_type": "stream",
          "name": "stdout",
          "text": [
            "Array Asli\n",
            "[[ 0  1  2  3]\n",
            " [ 4  5  6  7]\n",
            " [ 8  9 10 11]]\n",
            "\n",
            "\n",
            "Array Transpos\n",
            "[[ 0  4  8]\n",
            " [ 1  5  9]\n",
            " [ 2  6 10]\n",
            " [ 3  7 11]]\n",
            "\n",
            "\n",
            "Array transpose dengan .T.\n",
            "[[ 0  4  8]\n",
            " [ 1  5  9]\n",
            " [ 2  6 10]\n",
            " [ 3  7 11]]\n"
          ]
        }
      ]
    },
    {
      "cell_type": "markdown",
      "source": [
        "####Penggabungan Array"
      ],
      "metadata": {
        "id": "ewzjIwxEIQxz"
      }
    },
    {
      "cell_type": "markdown",
      "source": [
        "Concatenate"
      ],
      "metadata": {
        "id": "RGdJdWZoISkU"
      }
    },
    {
      "cell_type": "code",
      "source": [
        "a=np.array([[1,2],[3,4]])\n",
        "print('Array Pertama')\n",
        "print(a)\n",
        "print('\\n')\n",
        "b=np.array([[5,6],[6,7]])\n",
        "print('Array Kedua')\n",
        "print(b)\n",
        "print('\\n')\n",
        "print('Hasil Gabungan dua aray')\n",
        "print(np.concatenate((a,b)))\n",
        "print('\\n')\n",
        "print('gabungan dua array di sumbu 1:')\n",
        "print(np.concatenate((a,b),axis=1))"
      ],
      "metadata": {
        "colab": {
          "base_uri": "https://localhost:8080/"
        },
        "id": "Up1W1fzoIUKH",
        "outputId": "09013a26-08f2-4725-92a8-7c1facdc8095"
      },
      "execution_count": null,
      "outputs": [
        {
          "output_type": "stream",
          "name": "stdout",
          "text": [
            "Array Pertama\n",
            "[[1 2]\n",
            " [3 4]]\n",
            "\n",
            "\n",
            "Array Kedua\n",
            "[[5 6]\n",
            " [6 7]]\n",
            "\n",
            "\n",
            "Hasil Gabungan dua aray\n",
            "[[1 2]\n",
            " [3 4]\n",
            " [5 6]\n",
            " [6 7]]\n",
            "\n",
            "\n",
            "gabungan dua array di sumbu 1:\n",
            "[[1 2 5 6]\n",
            " [3 4 6 7]]\n"
          ]
        }
      ]
    },
    {
      "cell_type": "markdown",
      "source": [
        "Stack"
      ],
      "metadata": {
        "id": "-upd3NyBI_U7"
      }
    },
    {
      "cell_type": "code",
      "source": [
        "a=np.array([[1,2],[3,4]])\n",
        "print('Array Pertama')\n",
        "print(a)\n",
        "print('\\n')\n",
        "print('Array Kedua')\n",
        "b=np.array([[5,6],[6,7]])\n",
        "print(b)\n",
        "print('\\n')\n",
        "print('Hasil Stack sumbu 0')\n",
        "print(np.stack((a,b),0))\n",
        "print('\\n')\n",
        "print('Hasil Stack sumbu 1')\n",
        "print(np.stack((a,b),1))"
      ],
      "metadata": {
        "colab": {
          "base_uri": "https://localhost:8080/"
        },
        "id": "gHO2i7qqJAIf",
        "outputId": "a0795169-b137-4dbb-e819-a1354078db87"
      },
      "execution_count": null,
      "outputs": [
        {
          "output_type": "stream",
          "name": "stdout",
          "text": [
            "Array Pertama\n",
            "[[1 2]\n",
            " [3 4]]\n",
            "\n",
            "\n",
            "Array Kedua\n",
            "[[5 6]\n",
            " [6 7]]\n",
            "\n",
            "\n",
            "Hasil Stack sumbu 0\n",
            "[[[1 2]\n",
            "  [3 4]]\n",
            "\n",
            " [[5 6]\n",
            "  [6 7]]]\n",
            "\n",
            "\n",
            "Hasil Stack sumbu 1\n",
            "[[[1 2]\n",
            "  [5 6]]\n",
            "\n",
            " [[3 4]\n",
            "  [6 7]]]\n"
          ]
        }
      ]
    },
    {
      "cell_type": "markdown",
      "source": [
        "Hstack"
      ],
      "metadata": {
        "id": "I5SJgh5XJYqz"
      }
    },
    {
      "cell_type": "code",
      "source": [
        "a = np.array([[1,2],[3,4]])\n",
        "\n",
        "print('Array Pertama:')\n",
        "print(a)\n",
        "print('\\n')\n",
        "b = np.array([[5,6],[7,8]])\n",
        "\n",
        "print('Array Kedua:')\n",
        "print(b)\n",
        "print('\\n')\n",
        "\n",
        "print('Horizontal stacking:')\n",
        "c = np.hstack((a,b))\n",
        "print(c)\n",
        "print('\\n')\n",
        "\n"
      ],
      "metadata": {
        "colab": {
          "base_uri": "https://localhost:8080/"
        },
        "id": "avuG-dcxJZox",
        "outputId": "e55d3d50-a439-442f-df54-f3cd6d59cd6d"
      },
      "execution_count": null,
      "outputs": [
        {
          "output_type": "stream",
          "name": "stdout",
          "text": [
            "Array Pertama:\n",
            "[[1 2]\n",
            " [3 4]]\n",
            "\n",
            "\n",
            "Array Kedua:\n",
            "[[5 6]\n",
            " [7 8]]\n",
            "\n",
            "\n",
            "Horizontal stacking:\n",
            "[[1 2 5 6]\n",
            " [3 4 7 8]]\n",
            "\n",
            "\n"
          ]
        }
      ]
    },
    {
      "cell_type": "markdown",
      "source": [
        "Vstack"
      ],
      "metadata": {
        "id": "qV0BS-a4Ja7k"
      }
    },
    {
      "cell_type": "code",
      "source": [
        "a = np.array([[1,2],[3,4]])\n",
        "\n",
        "print('Array pertama:')\n",
        "print(a)\n",
        "print('\\n')\n",
        "b = np.array([[5,6],[7,8]])\n",
        "\n",
        "print('Array kedua:')\n",
        "print(b)\n",
        "print('\\n')\n",
        "\n",
        "print('Vertical stacking:')\n",
        "c = np.vstack((a,b))\n",
        "print(c)\n"
      ],
      "metadata": {
        "colab": {
          "base_uri": "https://localhost:8080/"
        },
        "id": "qNw_uAPrJb6Z",
        "outputId": "c76a7228-caeb-4a55-bdde-a33b231fd903"
      },
      "execution_count": null,
      "outputs": [
        {
          "output_type": "stream",
          "name": "stdout",
          "text": [
            "Array pertama:\n",
            "[[1 2]\n",
            " [3 4]]\n",
            "\n",
            "\n",
            "Array kedua:\n",
            "[[5 6]\n",
            " [7 8]]\n",
            "\n",
            "\n",
            "Vertical stacking:\n",
            "[[1 2]\n",
            " [3 4]\n",
            " [5 6]\n",
            " [7 8]]\n"
          ]
        }
      ]
    },
    {
      "cell_type": "markdown",
      "source": [
        "## Splitting Array (Pemisahan Array) menjadi sub-array"
      ],
      "metadata": {
        "id": "voYmX_3xJesv"
      }
    },
    {
      "cell_type": "markdown",
      "source": [
        "Split"
      ],
      "metadata": {
        "id": "tSDAjSVxJfOB"
      }
    },
    {
      "cell_type": "code",
      "source": [
        "a = np.arange(9)\n",
        "\n",
        "print('Array pertama:')\n",
        "print(a)\n",
        "print('\\n')\n",
        "\n",
        "print('split array menjadi 3 sub-array yang setara:')\n",
        "b = np.split(a,3)\n",
        "print(b)\n",
        "print('\\n')\n",
        "\n",
        "print('split berdasarkan index pada array 1 dimensi:')\n",
        "b = np.split(a,[4,5]) # numpy.split(ary, indices_or_sections, axis)\n",
        "# parameter indicec_or_section dapat berupa bilangan bulat,\n",
        "#yang menunjukkan jumlah subarray berukuran sama yang akan dibuat dari array input.\n",
        "print(b)\n"
      ],
      "metadata": {
        "colab": {
          "base_uri": "https://localhost:8080/"
        },
        "id": "OfsEam5RJgIG",
        "outputId": "9dc23e2a-414d-46d6-a80d-0e16b88d638f"
      },
      "execution_count": null,
      "outputs": [
        {
          "output_type": "stream",
          "name": "stdout",
          "text": [
            "Array pertama:\n",
            "[0 1 2 3 4 5 6 7 8]\n",
            "\n",
            "\n",
            "split array menjadi 3 sub-array yang setara:\n",
            "[array([0, 1, 2]), array([3, 4, 5]), array([6, 7, 8])]\n",
            "\n",
            "\n",
            "split berdasarkan index pada array 1 dimensi:\n",
            "[array([0, 1, 2, 3]), array([4]), array([5, 6, 7, 8])]\n"
          ]
        }
      ]
    },
    {
      "cell_type": "markdown",
      "source": [
        "hsplit"
      ],
      "metadata": {
        "id": "rVeT9QMLJiY2"
      }
    },
    {
      "cell_type": "code",
      "source": [
        "a = np.arange(16).reshape(4,4)\n",
        "\n",
        "print('Array pertama:')\n",
        "print(a)\n",
        "print('\\n')\n",
        "\n",
        "print('Horizontal splitting:') # column wise\n",
        "b = np.hsplit(a,2)\n",
        "print(b)\n",
        "print('\\n')\n"
      ],
      "metadata": {
        "colab": {
          "base_uri": "https://localhost:8080/"
        },
        "id": "EbnR-AlgJjE1",
        "outputId": "486f6eee-8e1d-4f0d-a720-3b72f9c198a3"
      },
      "execution_count": null,
      "outputs": [
        {
          "output_type": "stream",
          "name": "stdout",
          "text": [
            "Array pertama:\n",
            "[[ 0  1  2  3]\n",
            " [ 4  5  6  7]\n",
            " [ 8  9 10 11]\n",
            " [12 13 14 15]]\n",
            "\n",
            "\n",
            "Horizontal splitting:\n",
            "[array([[ 0,  1],\n",
            "       [ 4,  5],\n",
            "       [ 8,  9],\n",
            "       [12, 13]]), array([[ 2,  3],\n",
            "       [ 6,  7],\n",
            "       [10, 11],\n",
            "       [14, 15]])]\n",
            "\n",
            "\n"
          ]
        }
      ]
    },
    {
      "cell_type": "markdown",
      "source": [
        "vsplit"
      ],
      "metadata": {
        "id": "An8WM0K-JlQr"
      }
    },
    {
      "cell_type": "code",
      "source": [
        "a = np.arange(16).reshape(4,4)\n",
        "\n",
        "print('Array awal:')\n",
        "print(a)\n",
        "print('\\n')\n",
        "\n",
        "print('Vertical splitting:')\n",
        "b = np.vsplit(a,2)\n",
        "print(b)\n"
      ],
      "metadata": {
        "colab": {
          "base_uri": "https://localhost:8080/"
        },
        "id": "H_tDEAZYJl5_",
        "outputId": "3e5f9089-c0a5-4c24-b387-6deb218a8642"
      },
      "execution_count": null,
      "outputs": [
        {
          "output_type": "stream",
          "name": "stdout",
          "text": [
            "Array awal:\n",
            "[[ 0  1  2  3]\n",
            " [ 4  5  6  7]\n",
            " [ 8  9 10 11]\n",
            " [12 13 14 15]]\n",
            "\n",
            "\n",
            "Vertical splitting:\n",
            "[array([[0, 1, 2, 3],\n",
            "       [4, 5, 6, 7]]), array([[ 8,  9, 10, 11],\n",
            "       [12, 13, 14, 15]])]\n"
          ]
        }
      ]
    },
    {
      "cell_type": "markdown",
      "source": [
        "## Mengubah Element Array (Add/Remove)"
      ],
      "metadata": {
        "id": "lxpiALSoJo0W"
      }
    },
    {
      "cell_type": "code",
      "source": [
        "# Resize\n",
        "a = np.array([[1,2,3],\n",
        "              [4,5,6]])\n",
        "\n",
        "print('Array awal:')\n",
        "print(a)\n",
        "print('\\n')\n",
        "\n",
        "print('shape array pertama:')\n",
        "print(a.shape)\n",
        "print('\\n')\n",
        "b = np.resize(a, (3,2))\n",
        "\n",
        "print('Array kedua:')\n",
        "print(b)\n",
        "print('\\n')\n",
        "\n",
        "print('shape array kedua:')\n",
        "print(b.shape)\n",
        "print('\\n')\n",
        "# Observe that first row of a is repeated in b since size is bigger\n",
        "\n",
        "print('resize array kedua:')\n",
        "b = np.resize(a,(3,3))\n",
        "print(b)\n"
      ],
      "metadata": {
        "colab": {
          "base_uri": "https://localhost:8080/"
        },
        "id": "RHdJgA2hJpM6",
        "outputId": "5bba6835-71c2-4681-8c18-396271a4e32b"
      },
      "execution_count": null,
      "outputs": [
        {
          "output_type": "stream",
          "name": "stdout",
          "text": [
            "Array awal:\n",
            "[[1 2 3]\n",
            " [4 5 6]]\n",
            "\n",
            "\n",
            "shape array pertama:\n",
            "(2, 3)\n",
            "\n",
            "\n",
            "Array kedua:\n",
            "[[1 2]\n",
            " [3 4]\n",
            " [5 6]]\n",
            "\n",
            "\n",
            "shape array kedua:\n",
            "(3, 2)\n",
            "\n",
            "\n",
            "resize array kedua:\n",
            "[[1 2 3]\n",
            " [4 5 6]\n",
            " [1 2 3]]\n"
          ]
        }
      ]
    },
    {
      "cell_type": "code",
      "source": [
        "# Append\n",
        "print('Array Awal')\n",
        "print(a)\n",
        "print('\\n')\n",
        "\n",
        "print('Append elements to array:')\n",
        "print(np.append(a, [7,8,9]))\n",
        "print('\\n')\n",
        "\n",
        "print('Append elements along axis 0:')\n",
        "print(np.append(a, [[7,8,9]],axis = 0))\n",
        "print('\\n')\n",
        "\n",
        "print('Append elements along axis 1:')\n",
        "print(np.append(a, [[5,5,5],[7,8,9]],axis = 1))\n"
      ],
      "metadata": {
        "colab": {
          "base_uri": "https://localhost:8080/"
        },
        "id": "sjCm0CIgJsnA",
        "outputId": "3136c613-9ea3-47d4-a4bd-4754108a1543"
      },
      "execution_count": null,
      "outputs": [
        {
          "output_type": "stream",
          "name": "stdout",
          "text": [
            "Array Awal\n",
            "[[1 2 3]\n",
            " [4 5 6]]\n",
            "\n",
            "\n",
            "Append elements to array:\n",
            "[1 2 3 4 5 6 7 8 9]\n",
            "\n",
            "\n",
            "Append elements along axis 0:\n",
            "[[1 2 3]\n",
            " [4 5 6]\n",
            " [7 8 9]]\n",
            "\n",
            "\n",
            "Append elements along axis 1:\n",
            "[[1 2 3 5 5 5]\n",
            " [4 5 6 7 8 9]]\n"
          ]
        }
      ]
    },
    {
      "cell_type": "code",
      "source": [
        "# Insert\n",
        "a = np.array([[1,2],\n",
        "              [3,4],\n",
        "              [5,6]])\n",
        "\n",
        "print('Array pertama:')\n",
        "print(a)\n",
        "print('\\n')\n",
        "\n",
        "print('tanpa parameter axis. sebelum insertion arraynya di flattened.')\n",
        "print(np.insert(a,3,[11,12]))\n",
        "print('\\n')\n",
        "print('Menggunakan parameter axis. value arraynya di broadcasr untuk menyamakan input.')\n",
        "\n",
        "print('Broadcast sepanjang axis 0:')\n",
        "print(np.insert(a,1,[11],axis = 0))\n",
        "print('\\n')\n",
        "\n",
        "print('Broadcast sepanjanhg axis 1:')\n",
        "print(np.insert(a,1,11,axis = 1))\n"
      ],
      "metadata": {
        "colab": {
          "base_uri": "https://localhost:8080/"
        },
        "id": "Ob3eThwkJuZB",
        "outputId": "bfc58fec-3bef-4e1d-e148-34efd6393e41"
      },
      "execution_count": null,
      "outputs": [
        {
          "output_type": "stream",
          "name": "stdout",
          "text": [
            "Array pertama:\n",
            "[[1 2]\n",
            " [3 4]\n",
            " [5 6]]\n",
            "\n",
            "\n",
            "tanpa parameter axis. sebelum insertion arraynya di flattened.\n",
            "[ 1  2  3 11 12  4  5  6]\n",
            "\n",
            "\n",
            "Menggunakan parameter axis. value arraynya di broadcasr untuk menyamakan input.\n",
            "Broadcast sepanjang axis 0:\n",
            "[[ 1  2]\n",
            " [11 11]\n",
            " [ 3  4]\n",
            " [ 5  6]]\n",
            "\n",
            "\n",
            "Broadcast sepanjanhg axis 1:\n",
            "[[ 1 11  2]\n",
            " [ 3 11  4]\n",
            " [ 5 11  6]]\n"
          ]
        }
      ]
    },
    {
      "cell_type": "code",
      "source": [
        "# delete\n",
        "a = np.arange(12).reshape(3,4)\n",
        "\n",
        "print('First array:')\n",
        "print(a)\n",
        "print('\\n')\n",
        "\n",
        "print('tanpa parameter axis maka di flattened sebelum didelete:')\n",
        "print(np.delete(a,5))\n",
        "print('\\n')\n",
        "\n",
        "print('kolom 2 deleted:')\n",
        "print(np.delete(a,1,axis = 1))\n",
        "print('\\n')\n"
      ],
      "metadata": {
        "colab": {
          "base_uri": "https://localhost:8080/"
        },
        "id": "-mTqNEBnJwfX",
        "outputId": "fc616e2a-c081-44e0-adca-101b98c3e1f0"
      },
      "execution_count": null,
      "outputs": [
        {
          "output_type": "stream",
          "name": "stdout",
          "text": [
            "First array:\n",
            "[[ 0  1  2  3]\n",
            " [ 4  5  6  7]\n",
            " [ 8  9 10 11]]\n",
            "\n",
            "\n",
            "tanpa parameter axis maka di flattened sebelum didelete:\n",
            "[ 0  1  2  3  4  6  7  8  9 10 11]\n",
            "\n",
            "\n",
            "kolom 2 deleted:\n",
            "[[ 0  2  3]\n",
            " [ 4  6  7]\n",
            " [ 8 10 11]]\n",
            "\n",
            "\n"
          ]
        }
      ]
    },
    {
      "cell_type": "code",
      "source": [
        "#unique element\n",
        "a = np.array([5,2,6,2,7,5,6,8,2,9])\n",
        "\n",
        "print('Array pertama:')\n",
        "print(a)\n",
        "print('\\n')\n",
        "\n",
        "print('value unik dari array pertama:')\n",
        "u = np.unique(a)\n",
        "print(u)\n",
        "print('\\n')\n",
        "\n",
        "print('index array:')\n",
        "u,indices = np.unique(a, return_index = True)\n",
        "print(indices)\n",
        "print('\\n')\n"
      ],
      "metadata": {
        "colab": {
          "base_uri": "https://localhost:8080/"
        },
        "id": "K1bRBDgGJygy",
        "outputId": "cf3c0b6e-d737-4d3c-83c5-688db6bf53ea"
      },
      "execution_count": null,
      "outputs": [
        {
          "output_type": "stream",
          "name": "stdout",
          "text": [
            "Array pertama:\n",
            "[5 2 6 2 7 5 6 8 2 9]\n",
            "\n",
            "\n",
            "value unik dari array pertama:\n",
            "[2 5 6 7 8 9]\n",
            "\n",
            "\n",
            "index array:\n",
            "[1 0 2 4 7 9]\n",
            "\n",
            "\n"
          ]
        }
      ]
    },
    {
      "cell_type": "markdown",
      "source": [
        "#Broadcasting array"
      ],
      "metadata": {
        "id": "BcDCZLAmJ0yX"
      }
    },
    {
      "cell_type": "code",
      "source": [
        "# Contoh 1\n",
        "a = np.array([1,2,3,4])\n",
        "b = np.array([10,20,30,40])\n",
        "c = a * b\n",
        "print(c)"
      ],
      "metadata": {
        "colab": {
          "base_uri": "https://localhost:8080/"
        },
        "id": "1FCMVjR7J11C",
        "outputId": "880b6934-a653-48ec-8da6-c76d03b2c677"
      },
      "execution_count": null,
      "outputs": [
        {
          "output_type": "stream",
          "name": "stdout",
          "text": [
            "[ 10  40  90 160]\n"
          ]
        }
      ]
    },
    {
      "cell_type": "code",
      "source": [
        "#contoh 2\n",
        "a = np.array([[0.0,0.0,0.0],\n",
        "              [10.0,10.0,10.0],\n",
        "              [20.0,20.0,20.0],\n",
        "              [30.0,30.0,30.0]])\n",
        "b = np.array([1.0,2.0,3.0])\n",
        "\n",
        "print('Array pertama:')\n",
        "print(a)\n",
        "print('\\n')\n",
        "\n",
        "print('Array kedua:')\n",
        "print(b)\n",
        "print('\\n')\n",
        "\n",
        "print('Array pertama + Array kedua')\n",
        "print(a + b)\n"
      ],
      "metadata": {
        "colab": {
          "base_uri": "https://localhost:8080/"
        },
        "id": "PNozYXjqJ3CJ",
        "outputId": "8ee1bb7f-cc4b-4931-91c6-99799344b805"
      },
      "execution_count": null,
      "outputs": [
        {
          "output_type": "stream",
          "name": "stdout",
          "text": [
            "Array pertama:\n",
            "[[ 0.  0.  0.]\n",
            " [10. 10. 10.]\n",
            " [20. 20. 20.]\n",
            " [30. 30. 30.]]\n",
            "\n",
            "\n",
            "Array kedua:\n",
            "[1. 2. 3.]\n",
            "\n",
            "\n",
            "Array pertama + Array kedua\n",
            "[[ 1.  2.  3.]\n",
            " [11. 12. 13.]\n",
            " [21. 22. 23.]\n",
            " [31. 32. 33.]]\n"
          ]
        }
      ]
    },
    {
      "cell_type": "markdown",
      "source": [
        "# Array Iteration"
      ],
      "metadata": {
        "id": "6Reik9LVJ5U5"
      }
    },
    {
      "cell_type": "code",
      "source": [
        "#contoh 1\n",
        "a = np.arange(0,60,5)\n",
        "a = a.reshape(3,4)\n",
        "\n",
        "print('Array asli:')\n",
        "print(a)\n",
        "print('\\n')\n",
        "\n",
        "print('Array yang telah di modifikasi:')\n",
        "for x in np.nditer(a):\n",
        "   print(x, end=' ')\n"
      ],
      "metadata": {
        "colab": {
          "base_uri": "https://localhost:8080/"
        },
        "id": "U3kL3WFzJ5zZ",
        "outputId": "8d302eaa-4247-4189-d07c-765a5959ac44"
      },
      "execution_count": null,
      "outputs": [
        {
          "output_type": "stream",
          "name": "stdout",
          "text": [
            "Array asli:\n",
            "[[ 0  5 10 15]\n",
            " [20 25 30 35]\n",
            " [40 45 50 55]]\n",
            "\n",
            "\n",
            "Array yang telah di modifikasi:\n",
            "0 5 10 15 20 25 30 35 40 45 50 55 "
          ]
        }
      ]
    },
    {
      "cell_type": "code",
      "source": [
        "#Urutan iterasi dipilih agar sesuai dengan tata letak memori array, tanpa mempertimbangkan urutan tertentu.\n",
        "#Ini dapat dilihat dengan mengulangi transpos dari array di atas.\n",
        "#contoh 2\n",
        "a = np.arange(0,60,5)\n",
        "a = a.reshape(3,4)\n",
        "\n",
        "print('Array asli:')\n",
        "print(a)\n",
        "print('\\n')\n",
        "\n",
        "print('Array yang di transpose:')\n",
        "b = a.T\n",
        "print(b)\n",
        "print('\\n')\n",
        "\n",
        "print('Array yang telah di modifikasi:')\n",
        "for x in np.nditer(b):\n",
        "   print(x, end=' ')\n",
        "\n"
      ],
      "metadata": {
        "colab": {
          "base_uri": "https://localhost:8080/"
        },
        "id": "4Zo-Uv7OJ8KR",
        "outputId": "cfbd3f71-681e-465f-b698-9ab4556cbf6a"
      },
      "execution_count": null,
      "outputs": [
        {
          "output_type": "stream",
          "name": "stdout",
          "text": [
            "Array asli:\n",
            "[[ 0  5 10 15]\n",
            " [20 25 30 35]\n",
            " [40 45 50 55]]\n",
            "\n",
            "\n",
            "Array yang di transpose:\n",
            "[[ 0 20 40]\n",
            " [ 5 25 45]\n",
            " [10 30 50]\n",
            " [15 35 55]]\n",
            "\n",
            "\n",
            "Array yang telah di modifikasi:\n",
            "0 5 10 15 20 25 30 35 40 45 50 55 "
          ]
        }
      ]
    },
    {
      "cell_type": "code",
      "source": [
        "#contoh 3\n",
        "a = np.arange(0,60,5)\n",
        "a = a.reshape(3,4)\n",
        "print('Array asli:')\n",
        "print(a)\n",
        "print('\\n')\n",
        "\n",
        "print('Transpos array asli:')\n",
        "b = a.T\n",
        "print(b)\n",
        "print('\\n')\n",
        "\n",
        "print('urutkan dalam C-style order:')\n",
        "c = b.copy(order = 'C')\n",
        "print(c)\n",
        "for x in np.nditer(c):\n",
        "   print(x, end=' ')\n",
        "\n",
        "print('\\n')\n",
        "\n",
        "print('urutkan dalam F-style order:')\n",
        "c = b.copy(order = 'F')\n",
        "print(c)\n",
        "for x in np.nditer(c):\n",
        "   print(x, end=' ')\n"
      ],
      "metadata": {
        "colab": {
          "base_uri": "https://localhost:8080/"
        },
        "id": "peU-pCJjJ99S",
        "outputId": "99b72f6e-671b-4e88-e208-5ba7403acd32"
      },
      "execution_count": null,
      "outputs": [
        {
          "output_type": "stream",
          "name": "stdout",
          "text": [
            "Array asli:\n",
            "[[ 0  5 10 15]\n",
            " [20 25 30 35]\n",
            " [40 45 50 55]]\n",
            "\n",
            "\n",
            "Transpos array asli:\n",
            "[[ 0 20 40]\n",
            " [ 5 25 45]\n",
            " [10 30 50]\n",
            " [15 35 55]]\n",
            "\n",
            "\n",
            "urutkan dalam C-style order:\n",
            "[[ 0 20 40]\n",
            " [ 5 25 45]\n",
            " [10 30 50]\n",
            " [15 35 55]]\n",
            "0 20 40 5 25 45 10 30 50 15 35 55 \n",
            "\n",
            "urutkan dalam F-style order:\n",
            "[[ 0 20 40]\n",
            " [ 5 25 45]\n",
            " [10 30 50]\n",
            " [15 35 55]]\n",
            "0 5 10 15 20 25 30 35 40 45 50 55 "
          ]
        }
      ]
    },
    {
      "cell_type": "code",
      "source": [
        "#contoh 4\n",
        "a = np.arange(0,60,5)\n",
        "a = a.reshape(3,4)\n",
        "\n",
        "print('Array asli:')\n",
        "print(a)\n",
        "print('\\n')\n",
        "\n",
        "print('Diurutkan dalam C-style order:')\n",
        "for x in np.nditer(a, order = 'C'):\n",
        "   print(x, end=' ')\n",
        "print('\\n')\n",
        "\n",
        "print('Diurutkan dalam in F-style order:')\n",
        "for x in np.nditer(a, order = 'F'):\n",
        "   print(x, end=' ')\n",
        "\n"
      ],
      "metadata": {
        "colab": {
          "base_uri": "https://localhost:8080/"
        },
        "id": "92euUkLPJ_3p",
        "outputId": "ab1f0db1-befb-4c71-8b9b-264b99543f8e"
      },
      "execution_count": null,
      "outputs": [
        {
          "output_type": "stream",
          "name": "stdout",
          "text": [
            "Array asli:\n",
            "[[ 0  5 10 15]\n",
            " [20 25 30 35]\n",
            " [40 45 50 55]]\n",
            "\n",
            "\n",
            "Diurutkan dalam C-style order:\n",
            "0 5 10 15 20 25 30 35 40 45 50 55 \n",
            "\n",
            "Diurutkan dalam in F-style order:\n",
            "0 20 40 5 25 45 10 30 50 15 35 55 "
          ]
        }
      ]
    },
    {
      "cell_type": "code",
      "source": [
        "a = np.arange(0,60,5)\n",
        "a = a.reshape(3,4)\n",
        "print('Array asli:')\n",
        "print(a)\n",
        "print('\\n')\n",
        "\n",
        "for x in np.nditer(a, op_flags = ['readwrite']):\n",
        "   x[...] = 2*x\n",
        "print('Array yang telah dimodifikasi:')\n",
        "print(a)\n"
      ],
      "metadata": {
        "colab": {
          "base_uri": "https://localhost:8080/"
        },
        "id": "HBVJu7acKB9x",
        "outputId": "01962298-4644-4b9d-99cb-5bfc9bd13ddc"
      },
      "execution_count": null,
      "outputs": [
        {
          "output_type": "stream",
          "name": "stdout",
          "text": [
            "Array asli:\n",
            "[[ 0  5 10 15]\n",
            " [20 25 30 35]\n",
            " [40 45 50 55]]\n",
            "\n",
            "\n",
            "Array yang telah dimodifikasi:\n",
            "[[  0  10  20  30]\n",
            " [ 40  50  60  70]\n",
            " [ 80  90 100 110]]\n"
          ]
        }
      ]
    },
    {
      "cell_type": "code",
      "source": [
        "a = np.arange(0,60,5)\n",
        "a = a.reshape(3,4)\n",
        "\n",
        "print('Array asli:')\n",
        "print(a)\n",
        "print('\\n')\n",
        "\n",
        "print('Array yang telah di modifikasi:')\n",
        "for x in np.nditer(a, flags = ['external_loop'], order = 'F'):\n",
        "   print(x, end=' ')\n"
      ],
      "metadata": {
        "colab": {
          "base_uri": "https://localhost:8080/"
        },
        "id": "6wzu7FvLKDdm",
        "outputId": "f5b35f08-e65e-406f-855e-a05abb0a7624"
      },
      "execution_count": null,
      "outputs": [
        {
          "output_type": "stream",
          "name": "stdout",
          "text": [
            "Array asli:\n",
            "[[ 0  5 10 15]\n",
            " [20 25 30 35]\n",
            " [40 45 50 55]]\n",
            "\n",
            "\n",
            "Array yang telah di modifikasi:\n",
            "[ 0 20 40] [ 5 25 45] [10 30 50] [15 35 55] "
          ]
        }
      ]
    },
    {
      "cell_type": "code",
      "source": [
        "a = np.arange(0,60,5)\n",
        "a = a.reshape(3,4)\n",
        "\n",
        "print('Array pertama:')\n",
        "print(a)\n",
        "print('\\n')\n",
        "\n",
        "print('Array kedua:')\n",
        "b = np.array([1, 2, 3, 4], dtype = int)\n",
        "print(b)\n",
        "print('\\n')\n",
        "\n",
        "print('Array yang telah di modifikasi:')\n",
        "for x,y in np.nditer([a,b]):\n",
        "   print(\"%d:%d\" % (x,y), end=' ')\n"
      ],
      "metadata": {
        "id": "_CKV6sbqKFI5"
      },
      "execution_count": null,
      "outputs": []
    },
    {
      "cell_type": "markdown",
      "source": [
        "#Numpy for Mathematics"
      ],
      "metadata": {
        "id": "xmpHZy7BKG63"
      }
    },
    {
      "cell_type": "markdown",
      "source": [
        "Fungsi Trigonomeri\n",
        "\n",
        "\n",
        "NumPy memiliki fungsi trigonometri standar yang mengembalikan rasio trigonometri untuk sudut tertentu dalam radian."
      ],
      "metadata": {
        "id": "oLDS_8LzKHuy"
      }
    },
    {
      "cell_type": "code",
      "source": [
        "a = np.array([0,30,45,60,90])\n",
        "\n",
        "print('Nilai sin dari sudut yang berbeda-beda:')\n",
        "# konversi radian dengan mengalikannya dengan pi/180\n",
        "print(np.sin(a*np.pi/180))\n",
        "print('\\n')\n",
        "\n",
        "print('Nilai kosinus sudut dalam array:')\n",
        "print(np.cos(a*np.pi/180))\n",
        "print('\\n')\n",
        "\n",
        "print('Nilai tangent sudut dalam array:')\n",
        "print(np.tan(a*np.pi/180))\n"
      ],
      "metadata": {
        "colab": {
          "base_uri": "https://localhost:8080/"
        },
        "id": "bbaePgzxKKD9",
        "outputId": "00d87b77-d41c-4d0c-f1df-3483c1f23cad"
      },
      "execution_count": null,
      "outputs": [
        {
          "output_type": "stream",
          "name": "stdout",
          "text": [
            "Nilai sin dari sudut yang berbeda-beda:\n",
            "[0.         0.5        0.70710678 0.8660254  1.        ]\n",
            "\n",
            "\n",
            "Nilai kosinus sudut dalam array:\n",
            "[1.00000000e+00 8.66025404e-01 7.07106781e-01 5.00000000e-01\n",
            " 6.12323400e-17]\n",
            "\n",
            "\n",
            "Nilai tangent sudut dalam array:\n",
            "[0.00000000e+00 5.77350269e-01 1.00000000e+00 1.73205081e+00\n",
            " 1.63312394e+16]\n"
          ]
        }
      ]
    },
    {
      "cell_type": "code",
      "source": [
        "a = np.array([0,30,45,60,90])\n",
        "\n",
        "print('Array dengan nilai sinus:')\n",
        "sin = np.sin(a*np.pi/180)\n",
        "print(sin)\n",
        "print('\\n')\n",
        "\n",
        "print('Hitung inverse(kebalikan) sinus dari sudut. Nilai yang dikembalikan dalam radian.')\n",
        "inv = np.arcsin(sin)\n",
        "print(inv)\n",
        "print('\\n')\n",
        "\n",
        "print('Periksa hasil dengan mengonversi ke derajat:')\n",
        "print(np.degrees(inv))\n",
        "print('\\n')\n",
        "\n",
        "print('fungsi arccos dan arctan berperilaku serupa:')\n",
        "cos = np.cos(a*np.pi/180)\n",
        "print(cos)\n",
        "print('\\n')\n",
        "\n",
        "print('Inverse dari cos:')\n",
        "inv = np.arccos(cos)\n",
        "print(inv)\n",
        "print('\\n')\n",
        "\n",
        "print('dalam derajat:')\n",
        "print(np.degrees(inv))\n",
        "print('\\n')\n",
        "\n",
        "print('Fungsi Tan:')\n",
        "tan = np.tan(a*np.pi/180)\n",
        "print(tan)\n",
        "print('\\n')\n",
        "\n",
        "print('Inverse dari tan:')\n",
        "inv = np.arctan(tan)\n",
        "print(inv)\n",
        "print('\\n')\n",
        "\n",
        "print('dalam derajat:')\n",
        "print(np.degrees(inv))\n"
      ],
      "metadata": {
        "colab": {
          "base_uri": "https://localhost:8080/"
        },
        "id": "VAcyQi6SKMEl",
        "outputId": "83aa9a8b-0570-4728-8515-35b6d0fba214"
      },
      "execution_count": null,
      "outputs": [
        {
          "output_type": "stream",
          "name": "stdout",
          "text": [
            "Array dengan nilai sinus:\n",
            "[0.         0.5        0.70710678 0.8660254  1.        ]\n",
            "\n",
            "\n",
            "Hitung inverse(kebalikan) sinus dari sudut. Nilai yang dikembalikan dalam radian.\n",
            "[0.         0.52359878 0.78539816 1.04719755 1.57079633]\n",
            "\n",
            "\n",
            "Periksa hasil dengan mengonversi ke derajat:\n",
            "[ 0. 30. 45. 60. 90.]\n",
            "\n",
            "\n",
            "fungsi arccos dan arctan berperilaku serupa:\n",
            "[1.00000000e+00 8.66025404e-01 7.07106781e-01 5.00000000e-01\n",
            " 6.12323400e-17]\n",
            "\n",
            "\n",
            "Inverse dari cos:\n",
            "[0.         0.52359878 0.78539816 1.04719755 1.57079633]\n",
            "\n",
            "\n",
            "dalam derajat:\n",
            "[ 0. 30. 45. 60. 90.]\n",
            "\n",
            "\n",
            "Fungsi Tan:\n",
            "[0.00000000e+00 5.77350269e-01 1.00000000e+00 1.73205081e+00\n",
            " 1.63312394e+16]\n",
            "\n",
            "\n",
            "Inverse dari tan:\n",
            "[0.         0.52359878 0.78539816 1.04719755 1.57079633]\n",
            "\n",
            "\n",
            "dalam derajat:\n",
            "[ 0. 30. 45. 60. 90.]\n"
          ]
        }
      ]
    },
    {
      "cell_type": "code",
      "source": [
        "a = np.array([1.0,5.55, 123, 0.567, 25.532])\n",
        "\n",
        "print('Array asli:')\n",
        "print(a)\n",
        "print('\\n')\n",
        "\n",
        "print('Setelah pembulatan:')\n",
        "print(np.around(a))\n",
        "print(np.around(a, decimals = 1))\n"
      ],
      "metadata": {
        "colab": {
          "base_uri": "https://localhost:8080/"
        },
        "id": "vp1zpd9bKOLJ",
        "outputId": "0708c50d-4651-48c9-af9d-abc93fa6b201"
      },
      "execution_count": null,
      "outputs": [
        {
          "output_type": "stream",
          "name": "stdout",
          "text": [
            "Array asli:\n",
            "[  1.      5.55  123.      0.567  25.532]\n",
            "\n",
            "\n",
            "Setelah pembulatan:\n",
            "[  1.   6. 123.   1.  26.]\n",
            "[  1.    5.6 123.    0.6  25.5]\n"
          ]
        }
      ]
    },
    {
      "cell_type": "markdown",
      "source": [
        "np.floor\n",
        "\n",
        "\n",
        "Fungsi ini mengembalikan bilangan bulat terbesar yang tidak lebih besar dari parameter input. Dasar skalar x adalah bilangan bulat terbesar i, sehingga i <= x. Perhatikan bahwa dalam Python, floor selalu dibulatkan dari 0."
      ],
      "metadata": {
        "id": "sMXmrut2KP4A"
      }
    },
    {
      "cell_type": "code",
      "source": [
        "a = np.array([-1.7, 1.5, -0.2, 0.6, 10])\n",
        "\n",
        "print('Array asli:')\n",
        "print(a)\n",
        "print('\\n')\n",
        "\n",
        "print('flooring array:')\n",
        "print(np.floor(a))\n"
      ],
      "metadata": {
        "colab": {
          "base_uri": "https://localhost:8080/"
        },
        "id": "mzJcDi32KQjg",
        "outputId": "5a9b35e8-21b1-4131-a61f-c91ac394725b"
      },
      "execution_count": null,
      "outputs": [
        {
          "output_type": "stream",
          "name": "stdout",
          "text": [
            "Array asli:\n",
            "[-1.7  1.5 -0.2  0.6 10. ]\n",
            "\n",
            "\n",
            "flooring array:\n",
            "[-2.  1. -1.  0. 10.]\n"
          ]
        }
      ]
    },
    {
      "cell_type": "markdown",
      "source": [
        "np.ceil\n",
        "\n",
        "Fungsi ceil() mengembalikan plafon nilai input, yaitu ceil skalar x adalah bilangan bulat terkecil i, sehingga i >= x."
      ],
      "metadata": {
        "id": "bUXcdi4nKT2I"
      }
    },
    {
      "cell_type": "code",
      "source": [
        "a = np.array([-1.7, 1.5, -0.2, 0.6, 10])\n",
        "\n",
        "print('Array asli:')\n",
        "print(a)\n",
        "print('\\n')\n",
        "\n",
        "print('ceiling array:')\n",
        "print(np.ceil(a))\n"
      ],
      "metadata": {
        "colab": {
          "base_uri": "https://localhost:8080/"
        },
        "id": "y5V-lP8rKUnp",
        "outputId": "d1c8c6e3-c97b-4aa8-cbbb-55c62af4c7c1"
      },
      "execution_count": null,
      "outputs": [
        {
          "output_type": "stream",
          "name": "stdout",
          "text": [
            "Array asli:\n",
            "[-1.7  1.5 -0.2  0.6 10. ]\n",
            "\n",
            "\n",
            "ceiling array:\n",
            "[-1.  2. -0.  1. 10.]\n"
          ]
        }
      ]
    },
    {
      "cell_type": "markdown",
      "source": [
        "## Operasi Aritmatika"
      ],
      "metadata": {
        "id": "KfTuD1LDKYEP"
      }
    },
    {
      "cell_type": "markdown",
      "source": [
        "Di dalam numpy ada fungsi untuk melakukan penjumlahan, pengurangan, perkalian dan pembagian"
      ],
      "metadata": {
        "id": "t8snXnx7KYlx"
      }
    },
    {
      "cell_type": "code",
      "source": [
        "a = np.arange(9, dtype = np.float_).reshape(3,3)\n",
        "\n",
        "print('Array pertama:')\n",
        "print(a)\n",
        "print('\\n')\n",
        "\n",
        "print('Array kedua:')\n",
        "b = np.array([10,10,10])\n",
        "print(b)\n",
        "print('\\n')\n",
        "\n",
        "print('Penjumlahan 2 array:')\n",
        "print(np.add(a,b))\n",
        "print('\\n')\n",
        "\n",
        "print('Pengurangan 2 array:')\n",
        "print(np.subtract(a,b))\n",
        "print('\\n')\n",
        "\n",
        "print('Perkalian 2 array:')\n",
        "print(np.multiply(a,b))\n",
        "print('\\n')\n",
        "\n",
        "print('Pembagian 2 array:')\n",
        "print(np.divide(a,b))\n"
      ],
      "metadata": {
        "colab": {
          "base_uri": "https://localhost:8080/"
        },
        "id": "llSSSCKdKbM8",
        "outputId": "fb375ea0-1807-44c9-e47e-09e0e93ff9a6"
      },
      "execution_count": null,
      "outputs": [
        {
          "output_type": "stream",
          "name": "stdout",
          "text": [
            "Array pertama:\n",
            "[[0. 1. 2.]\n",
            " [3. 4. 5.]\n",
            " [6. 7. 8.]]\n",
            "\n",
            "\n",
            "Array kedua:\n",
            "[10 10 10]\n",
            "\n",
            "\n",
            "Penjumlahan 2 array:\n",
            "[[10. 11. 12.]\n",
            " [13. 14. 15.]\n",
            " [16. 17. 18.]]\n",
            "\n",
            "\n",
            "Pengurangan 2 array:\n",
            "[[-10.  -9.  -8.]\n",
            " [ -7.  -6.  -5.]\n",
            " [ -4.  -3.  -2.]]\n",
            "\n",
            "\n",
            "Perkalian 2 array:\n",
            "[[ 0. 10. 20.]\n",
            " [30. 40. 50.]\n",
            " [60. 70. 80.]]\n",
            "\n",
            "\n",
            "Pembagian 2 array:\n",
            "[[0.  0.1 0.2]\n",
            " [0.3 0.4 0.5]\n",
            " [0.6 0.7 0.8]]\n"
          ]
        }
      ]
    },
    {
      "cell_type": "code",
      "source": [
        "a = np.array([10,100,1000])\n",
        "\n",
        "print('Array asli:')\n",
        "print(a)\n",
        "print('\\n')\n",
        "\n",
        "print('Menggunakan power function:')\n",
        "print(np.power(a,2))\n",
        "print('\\n')\n",
        "\n",
        "print('Array kedua:')\n",
        "b = np.array([1,2,3])\n",
        "print(b)\n",
        "print('\\n')\n",
        "\n",
        "print('Menggunakan power function lagi:')\n",
        "print(np.power(a,b))\n"
      ],
      "metadata": {
        "colab": {
          "base_uri": "https://localhost:8080/"
        },
        "id": "IO6MSl0vKeiH",
        "outputId": "32812d71-1d72-43ed-e042-791374693f5c"
      },
      "execution_count": null,
      "outputs": [
        {
          "output_type": "stream",
          "name": "stdout",
          "text": [
            "Array asli:\n",
            "[  10  100 1000]\n",
            "\n",
            "\n",
            "Menggunakan power function:\n",
            "[    100   10000 1000000]\n",
            "\n",
            "\n",
            "Array kedua:\n",
            "[1 2 3]\n",
            "\n",
            "\n",
            "Menggunakan power function lagi:\n",
            "[        10      10000 1000000000]\n"
          ]
        }
      ]
    },
    {
      "cell_type": "code",
      "source": [
        "a = np.array([10,20,30])\n",
        "b = np.array([3,5,7])\n",
        "\n",
        "print('Array pertama:')\n",
        "print(a)\n",
        "print('\\n')\n",
        "\n",
        "print('Array kedua:')\n",
        "print(b)\n",
        "print('\\n')\n",
        "\n",
        "print('menggunakan mod() function:')\n",
        "print(np.mod(a,b))\n",
        "print('\\n')\n",
        "\n",
        "print('menggunakan remainder() function:')\n",
        "print(np.remainder(a,b))\n"
      ],
      "metadata": {
        "colab": {
          "base_uri": "https://localhost:8080/"
        },
        "id": "pgFDiYNyKgYr",
        "outputId": "0833e4e7-8100-41a0-a88d-834db16c8ed6"
      },
      "execution_count": null,
      "outputs": [
        {
          "output_type": "stream",
          "name": "stdout",
          "text": [
            "Array pertama:\n",
            "[10 20 30]\n",
            "\n",
            "\n",
            "Array kedua:\n",
            "[3 5 7]\n",
            "\n",
            "\n",
            "menggunakan mod() function:\n",
            "[1 0 2]\n",
            "\n",
            "\n",
            "menggunakan remainder() function:\n",
            "[1 0 2]\n"
          ]
        }
      ]
    },
    {
      "cell_type": "markdown",
      "source": [
        "## Fungsi Statistika"
      ],
      "metadata": {
        "id": "BuAe3HX9KifF"
      }
    },
    {
      "cell_type": "code",
      "source": [
        "# Mencari nilai minimum dan maximum dalam suatu array\n",
        "a = np.array([[3,7,5],[8,4,3],[2,4,9]])\n",
        "\n",
        "print('Array asli:')\n",
        "print(a)\n",
        "print('\\n')\n",
        "\n",
        "print('menggunakan amin() function:')\n",
        "print(np.amin(a,1))\n",
        "print('\\n')\n",
        "\n",
        "print('menggunakan amin() function lagi:')\n",
        "print(np.amin(a,0))\n",
        "print('\\n')\n",
        "\n",
        "print('menggunakan amax() function:')\n",
        "print(np.amax(a))\n",
        "print('\\n')\n",
        "\n",
        "print('menggunakan amax() function lagi:')\n",
        "print(np.amax(a, axis = 0))\n"
      ],
      "metadata": {
        "colab": {
          "base_uri": "https://localhost:8080/"
        },
        "id": "GFXmDsNCKi5n",
        "outputId": "8bbede28-1068-4e68-aaa5-bbd011b60e5c"
      },
      "execution_count": null,
      "outputs": [
        {
          "output_type": "stream",
          "name": "stdout",
          "text": [
            "Array asli:\n",
            "[[3 7 5]\n",
            " [8 4 3]\n",
            " [2 4 9]]\n",
            "\n",
            "\n",
            "menggunakan amin() function:\n",
            "[3 3 2]\n",
            "\n",
            "\n",
            "menggunakan amin() function lagi:\n",
            "[2 4 3]\n",
            "\n",
            "\n",
            "menggunakan amax() function:\n",
            "9\n",
            "\n",
            "\n",
            "menggunakan amax() function lagi:\n",
            "[8 7 9]\n"
          ]
        }
      ]
    },
    {
      "cell_type": "markdown",
      "source": [
        "np.percentile\n",
        "\n",
        "Persentil (atau satu persentil) adalah ukuran yang digunakan dalam statistik yang menunjukkan nilai di bawah persentase pengamatan tertentu dalam kelompok pengamatan.\n",
        "\n",
        "\n",
        "numpy.percentile(a, q, axis)\n",
        "\n",
        "\n",
        "a : Input array\n",
        "\n",
        "q : Persentil yang akan dihitung harus antara 0-100\n",
        "\n",
        "axis : sumbu"
      ],
      "metadata": {
        "id": "W83J2CvsKmom"
      }
    },
    {
      "cell_type": "markdown",
      "source": [
        "Persentil untuk nilai dalam kumpulan data tertentu dapat dihitung menggunakan rumus:\n",
        "\n",
        "n = (P/100) x N\n",
        "\n",
        "\n",
        "di mana N = jumlah nilai dalam kumpulan data, P = persentil, dan n = peringkat ordinal dari nilai yang diberikan (dengan nilai dalam kumpulan data diurutkan dari terkecil ke terbesar). Misalnya, ambil kelas yang terdiri dari 20 siswa yang memperoleh nilai berikut pada tes terbaru mereka: 75, 77, 78, 78, 80, 81, 81, 82, 83, 84, 84, 84, 85, 87, 87, 88, 88, 88, 89, 90. Skor ini dapat direpresentasikan sebagai kumpulan data dengan 20 nilai: {75, 77, 78, 78, 80, 81, 81, 82, 83, 84, 84, 84, 85, 87, 87, 88, 88, 88, 89, 90}.\n",
        "\n",
        "Kita dapat menemukan skor yang menandai persentil ke-20 dengan memasukkan nilai yang diketahui ke dalam rumus dan menyelesaikan n:\n",
        "\n",
        "n = (20/100) x 20\n",
        "\n",
        "n = 4\n",
        "\n",
        "Nilai keempat dalam kumpulan data adalah skor 78. Ini berarti bahwa 78 menandai persentil ke-20; dari siswa di kelas, 20 persen memperoleh skor 78 atau lebih rendah."
      ],
      "metadata": {
        "id": "j_4lz1xhKm8N"
      }
    },
    {
      "cell_type": "code",
      "source": [
        "a = np.array([[30,40,70],[80,20,10],[50,90,60]])\n",
        "\n",
        "print('Array asli:')\n",
        "print(a)\n",
        "print('\\n')\n",
        "\n",
        "print('menggunakan percentile() function:')\n",
        "print(np.percentile(a,50))\n",
        "print('\\n')\n",
        "\n",
        "print('Menggunakan percentile() function disumbu 1:')\n",
        "print(np.percentile(a,50, axis = 1))\n",
        "print('\\n')\n",
        "\n",
        "print('Menggunakan percentile() function disumbu 0:')\n",
        "print(np.percentile(a,50, axis = 0))\n",
        "\n",
        "\n"
      ],
      "metadata": {
        "colab": {
          "base_uri": "https://localhost:8080/"
        },
        "id": "zQYTnXoHKpVA",
        "outputId": "f01e08c5-aea3-4910-f4cc-d77e71bb1c61"
      },
      "execution_count": null,
      "outputs": [
        {
          "output_type": "stream",
          "name": "stdout",
          "text": [
            "Array asli:\n",
            "[[30 40 70]\n",
            " [80 20 10]\n",
            " [50 90 60]]\n",
            "\n",
            "\n",
            "menggunakan percentile() function:\n",
            "50.0\n",
            "\n",
            "\n",
            "Menggunakan percentile() function disumbu 1:\n",
            "[40. 20. 60.]\n",
            "\n",
            "\n",
            "Menggunakan percentile() function disumbu 0:\n",
            "[50. 40. 60.]\n"
          ]
        }
      ]
    },
    {
      "cell_type": "code",
      "source": [
        "a = np.array([[30,65,70],[80,95,10],[50,90,60]])\n",
        "\n",
        "print('Array asli:')\n",
        "print(a)\n",
        "print('\\n')\n",
        "\n",
        "print('menggunakan median() function:')\n",
        "print(np.median(a))\n",
        "print('\\n')\n",
        "\n",
        "print('menggunakan median() function sepanjang sumbu 0:')\n",
        "print(np.median(a, axis = 0))\n",
        "print('\\n')\n",
        "\n",
        "print('Menggunakan median() function sepanjang axis 1:')\n",
        "print(np.median(a, axis = 1))\n"
      ],
      "metadata": {
        "colab": {
          "base_uri": "https://localhost:8080/"
        },
        "id": "JWgtsp0cKsIr",
        "outputId": "da729c03-8067-4a16-f33e-4580913af68a"
      },
      "execution_count": null,
      "outputs": [
        {
          "output_type": "stream",
          "name": "stdout",
          "text": [
            "Array asli:\n",
            "[[30 65 70]\n",
            " [80 95 10]\n",
            " [50 90 60]]\n",
            "\n",
            "\n",
            "menggunakan median() function:\n",
            "65.0\n",
            "\n",
            "\n",
            "menggunakan median() function sepanjang sumbu 0:\n",
            "[50. 90. 60.]\n",
            "\n",
            "\n",
            "Menggunakan median() function sepanjang axis 1:\n",
            "[65. 80. 60.]\n"
          ]
        }
      ]
    },
    {
      "cell_type": "markdown",
      "source": [
        "Rata-rata aritmatika adalah jumlah elemen sepanjang sumbu dibagi dengan jumlah elemen. Fungsi numpy.mean() mengembalikan mean aritmatika elemen dalam array. Jika sumbu disebutkan secara eksplisit, maka akan dihitung berdasarkan nilai sumbunya\n",
        "\n",
        "\n"
      ],
      "metadata": {
        "id": "u0OP_9qdKt3W"
      }
    },
    {
      "cell_type": "code",
      "source": [
        "a = np.array([[1,2,3],[3,4,5],[4,5,6]])\n",
        "\n",
        "print('Array asli:')\n",
        "print(a)\n",
        "print('\\n')\n",
        "\n",
        "print('Menggunakan mean() function:')\n",
        "print(np.mean(a))\n",
        "print('\\n')\n",
        "\n",
        "print('Menggunakan mean() function sepanjang sumbu 0:')\n",
        "print(np.mean(a, axis = 0))\n",
        "print('\\n')\n",
        "\n",
        "print('Menggunakan mean() function sepanjang sumbu 1:')\n",
        "print(np.mean(a, axis = 1))\n"
      ],
      "metadata": {
        "colab": {
          "base_uri": "https://localhost:8080/"
        },
        "id": "z63A1-JSKvSf",
        "outputId": "e646bf39-601f-434c-a668-a8e7c2cb1cbc"
      },
      "execution_count": null,
      "outputs": [
        {
          "output_type": "stream",
          "name": "stdout",
          "text": [
            "Array asli:\n",
            "[[1 2 3]\n",
            " [3 4 5]\n",
            " [4 5 6]]\n",
            "\n",
            "\n",
            "Menggunakan mean() function:\n",
            "3.6666666666666665\n",
            "\n",
            "\n",
            "Menggunakan mean() function sepanjang sumbu 0:\n",
            "[2.66666667 3.66666667 4.66666667]\n",
            "\n",
            "\n",
            "Menggunakan mean() function sepanjang sumbu 1:\n",
            "[2. 4. 5.]\n"
          ]
        }
      ]
    },
    {
      "cell_type": "markdown",
      "source": [
        "Rata-rata tertimbang adalah rata-rata yang dihasilkan dari perkalian setiap komponen dengan faktor yang mencerminkan kepentingannya. Fungsi numpy.average() menghitung rata-rata tertimbang elemen dalam array sesuai dengan bobot masing-masing yang diberikan dalam array lain. Fungsi dapat memiliki parameter sumbu. Jika sumbu tidak ditentukan, array diratakan.\n",
        "\n",
        "Mempertimbangkan array [1,2,3,4] dan bobot yang sesuai [4,3,2,1], rata-rata tertimbang dihitung dengan menambahkan produk dari elemen yang sesuai dan membagi jumlah dengan jumlah bobot.\n",
        "\n",
        "Rata-rata tertimbang = (1*4+2*3+3*2+4*1)/(4+3+2+1)"
      ],
      "metadata": {
        "id": "M97bN89_KxUp"
      }
    },
    {
      "cell_type": "code",
      "source": [
        "a = np.array([1,2,3,4])\n",
        "\n",
        "print('Array asli:')\n",
        "print(a)\n",
        "print('\\n')\n",
        "\n",
        "print('menggunakan average() function:')\n",
        "print(np.average(a))\n",
        "print('\\n')\n",
        "\n",
        "# this is same as mean when weight is not specified\n",
        "wts = np.array([4,3,2,1])\n",
        "\n",
        "print('menggunakan average() function lagi:')\n",
        "print(np.average(a,weights = wts))\n",
        "print('\\n')\n",
        "\n",
        "# Returns the sum of weights, if the returned parameter is set to True.\n",
        "print('Sum of weights')\n",
        "print(np.average([1,2,3, 4],weights = [4,3,2,1], returned = True))\n"
      ],
      "metadata": {
        "colab": {
          "base_uri": "https://localhost:8080/"
        },
        "id": "P0Ag0-AqKx1e",
        "outputId": "30a4373b-69e5-471f-96e5-c02e44db291e"
      },
      "execution_count": null,
      "outputs": [
        {
          "output_type": "stream",
          "name": "stdout",
          "text": [
            "Array asli:\n",
            "[1 2 3 4]\n",
            "\n",
            "\n",
            "menggunakan average() function:\n",
            "2.5\n",
            "\n",
            "\n",
            "menggunakan average() function lagi:\n",
            "2.0\n",
            "\n",
            "\n",
            "Sum of weights\n",
            "(2.0, 10.0)\n"
          ]
        }
      ]
    },
    {
      "cell_type": "markdown",
      "source": [
        "Standar deviasi  adalah ukuran seberapa tersebar data dalam kaitannya dengan mean. Standar deviasi rendah berarti data mengelompok di sekitar rata-rata, dan standar deviasi tinggi menunjukkan data lebih tersebar."
      ],
      "metadata": {
        "id": "oSYPRpQlK17N"
      }
    },
    {
      "cell_type": "code",
      "source": [
        "np.std([1,2,3,4])"
      ],
      "metadata": {
        "colab": {
          "base_uri": "https://localhost:8080/"
        },
        "id": "AdFHmIlJK2e2",
        "outputId": "1fe3b4ec-1198-490c-d756-8978e142e6e5"
      },
      "execution_count": null,
      "outputs": [
        {
          "output_type": "execute_result",
          "data": {
            "text/plain": [
              "1.118033988749895"
            ]
          },
          "metadata": {},
          "execution_count": 51
        }
      ]
    },
    {
      "cell_type": "markdown",
      "source": [
        "Varians adalah ukuran variabilitas. Ini dihitung dengan mengambil rata-rata deviasi kuadrat dari mean. Varians memberi tahu Anda tingkat penyebaran dalam kumpulan data Anda. Semakin menyebar data, semakin besar varians dalam kaitannya dengan mean"
      ],
      "metadata": {
        "id": "fvLJJl6FK5Wr"
      }
    },
    {
      "cell_type": "code",
      "source": [
        "print(np.var([1,2,3,4]))"
      ],
      "metadata": {
        "id": "5hwq1oP7K66P",
        "outputId": "1d53f217-b6e9-4d61-d35e-49bac4e1538c",
        "colab": {
          "base_uri": "https://localhost:8080/"
        }
      },
      "execution_count": null,
      "outputs": [
        {
          "output_type": "stream",
          "name": "stdout",
          "text": [
            "1.25\n"
          ]
        }
      ]
    },
    {
      "cell_type": "markdown",
      "source": [
        "Standar deviasi mengukur seberapa jauh angka-angka dalam kumpulan data. Varians, di sisi lain, memberikan nilai aktual seberapa banyak angka dalam kumpulan data bervariasi dari rata-rata"
      ],
      "metadata": {
        "id": "onyTrhQfK7hF"
      }
    }
  ]
}